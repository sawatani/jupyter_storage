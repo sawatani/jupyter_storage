{
 "cells": [
  {
   "cell_type": "code",
   "execution_count": null,
   "metadata": {
    "ExecuteTime": {
     "end_time": "2019-02-14T10:29:12.922563Z",
     "start_time": "2019-02-14T10:45:32.886Z"
    }
   },
   "outputs": [],
   "source": [
    "import Graphics.Gnuplot.Simple\n",
    "\n",
    "let xs = linearScale 1000 (0, 2 * pi)\n",
    "let ys = fmap sin xs\n",
    "let points = zip xs ys\n",
    "plotPath [(Title \"hello\")] points"
   ]
  }
 ],
 "metadata": {
  "hide_input": false,
  "kernelspec": {
   "display_name": "Haskell",
   "language": "haskell",
   "name": "haskell"
  },
  "language_info": {
   "codemirror_mode": "ihaskell",
   "file_extension": ".hs",
   "name": "haskell",
   "pygments_lexer": "Haskell",
   "version": "8.6.3"
  }
 },
 "nbformat": 4,
 "nbformat_minor": 2
}
