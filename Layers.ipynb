{
 "cells": [
  {
   "cell_type": "code",
   "execution_count": null,
   "metadata": {},
   "outputs": [],
   "source": [
    "{-# LANGUAGE AllowAmbiguousTypes #-}\n",
    "{-# LANGUAGE MultiParamTypeClasses #-}\n",
    "{-# LANGUAGE KindSignatures #-}\n",
    "{-# LANGUAGE FlexibleContexts #-}\n",
    "{-# LANGUAGE FlexibleInstances #-}\n",
    "{-# LANGUAGE TypeFamilies #-}"
   ]
  },
  {
   "cell_type": "code",
   "execution_count": null,
   "metadata": {},
   "outputs": [],
   "source": [
    "import Data.String"
   ]
  },
  {
   "cell_type": "code",
   "execution_count": null,
   "metadata": {},
   "outputs": [],
   "source": [
    "newtype Sky e = Sky e deriving (Show, Eq)\n",
    "newtype Cosmo e = Cosmo e deriving (Show, Eq)\n",
    "newtype Ground e = Ground e deriving (Show, Eq)\n",
    "newtype Sea e = Sea e deriving (Show, Eq)"
   ]
  },
  {
   "cell_type": "code",
   "execution_count": null,
   "metadata": {},
   "outputs": [],
   "source": [
    "data Air = Air deriving (Show, Eq)\n",
    "data Water = Water deriving (Show, Eq)"
   ]
  },
  {
   "cell_type": "code",
   "execution_count": null,
   "metadata": {},
   "outputs": [],
   "source": [
    "data JoinedForward a b = JoinedForward a b deriving (Show, Eq)\n",
    "data JoinedBackward a b = JoinedBackward a b deriving (Show, Eq)"
   ]
  },
  {
   "cell_type": "code",
   "execution_count": null,
   "metadata": {},
   "outputs": [],
   "source": [
    "a ~> b = JoinedForward a b\n",
    "infixr ~>\n",
    "a <~ b = JoinedBackward a b\n",
    "infixl <~"
   ]
  },
  {
   "cell_type": "code",
   "execution_count": null,
   "metadata": {},
   "outputs": [],
   "source": [
    "class ForwardLayer a e where\n",
    "  type Backward a :: *\n",
    "  forward :: Num e => a -> e -> (Backward a, e)\n",
    "\n",
    "class BackwardLayer a e where\n",
    "  type Forward a :: *\n",
    "  backward :: Num e => a -> e -> (Forward a, e)"
   ]
  },
  {
   "cell_type": "code",
   "execution_count": null,
   "metadata": {},
   "outputs": [],
   "source": [
    "instance ForwardLayer (Sky e) e where\n",
    "  type Backward (Sky e) = Ground e\n",
    "  forward (Sky e) e' = (Ground e, e + e')"
   ]
  },
  {
   "cell_type": "code",
   "execution_count": null,
   "metadata": {},
   "outputs": [],
   "source": [
    "instance ForwardLayer (Cosmo e) e where\n",
    "  type Backward (Cosmo e) = Sea e\n",
    "  forward (Cosmo e) e' = (Sea e, e + e')"
   ]
  },
  {
   "cell_type": "code",
   "execution_count": null,
   "metadata": {},
   "outputs": [],
   "source": [
    "instance ForwardLayer Air e where\n",
    "  type Backward Air = Water\n",
    "  forward Air e = (Water, e + 1)"
   ]
  },
  {
   "cell_type": "code",
   "execution_count": null,
   "metadata": {},
   "outputs": [],
   "source": [
    "instance (ForwardLayer a e, ForwardLayer b e) => ForwardLayer (JoinedForward a b) e where\n",
    "  type Backward (JoinedForward a b) = JoinedBackward (Backward a) (Backward b)\n",
    "  forward (JoinedForward a b) e0 = (a' <~ b', e2)\n",
    "      where\n",
    "          (a', e1) = forward a e0\n",
    "          (b', e2) = forward b e1"
   ]
  },
  {
   "cell_type": "code",
   "execution_count": null,
   "metadata": {},
   "outputs": [],
   "source": [
    "instance BackwardLayer (Ground e) e where\n",
    "  type Forward (Ground e) = Sky e\n",
    "  backward (Ground e) e' = (Sky e, e - e')"
   ]
  },
  {
   "cell_type": "code",
   "execution_count": null,
   "metadata": {},
   "outputs": [],
   "source": [
    "instance BackwardLayer (Sea e) e where\n",
    "  type Forward (Sea e) = Cosmo e\n",
    "  backward (Sea e) e' = (Cosmo e, e - e')"
   ]
  },
  {
   "cell_type": "code",
   "execution_count": null,
   "metadata": {},
   "outputs": [],
   "source": [
    "instance BackwardLayer Water e where\n",
    "  type Forward Water = Air\n",
    "  backward Water e = (Air, e - 1)"
   ]
  },
  {
   "cell_type": "code",
   "execution_count": null,
   "metadata": {},
   "outputs": [],
   "source": [
    "instance (BackwardLayer a e, BackwardLayer b e) => BackwardLayer (JoinedBackward a b) e where\n",
    "  type Forward (JoinedBackward a b) = JoinedForward (Forward a) (Forward b)\n",
    "  backward (JoinedBackward a b) e0 = (a' ~> b', e2)\n",
    "    where\n",
    "      (b', e1) = backward b e0\n",
    "      (a', e2) = backward a e1"
   ]
  },
  {
   "cell_type": "code",
   "execution_count": null,
   "metadata": {},
   "outputs": [],
   "source": [
    "forward (Sky 1) 2"
   ]
  },
  {
   "cell_type": "code",
   "execution_count": null,
   "metadata": {},
   "outputs": [],
   "source": [
    "backward (Ground 2) 1"
   ]
  },
  {
   "cell_type": "code",
   "execution_count": null,
   "metadata": {},
   "outputs": [],
   "source": [
    "uncurry backward $ forward (Sky 2) 1"
   ]
  },
  {
   "cell_type": "code",
   "execution_count": null,
   "metadata": {},
   "outputs": [],
   "source": [
    "forward Air 3"
   ]
  },
  {
   "cell_type": "code",
   "execution_count": null,
   "metadata": {},
   "outputs": [],
   "source": [
    "backward Water 4"
   ]
  },
  {
   "cell_type": "code",
   "execution_count": null,
   "metadata": {},
   "outputs": [],
   "source": [
    "joined = Air ~> Sky 1 ~> Cosmo 2"
   ]
  },
  {
   "cell_type": "code",
   "execution_count": null,
   "metadata": {},
   "outputs": [],
   "source": [
    "forward joined 4"
   ]
  },
  {
   "cell_type": "code",
   "execution_count": null,
   "metadata": {},
   "outputs": [],
   "source": [
    "uncurry backward $ forward joined 4"
   ]
  },
  {
   "cell_type": "code",
   "execution_count": null,
   "metadata": {},
   "outputs": [],
   "source": [
    "start :: (Num e, ForwardLayer a e, BackwardLayer (Backward a) e) => a -> (Backward a, e)\n",
    "start a = forward a 0"
   ]
  },
  {
   "cell_type": "code",
   "execution_count": null,
   "metadata": {},
   "outputs": [],
   "source": [
    "start (Sky 3)"
   ]
  },
  {
   "cell_type": "code",
   "execution_count": null,
   "metadata": {},
   "outputs": [],
   "source": [
    "reverse :: (Num e, ForwardLayer a e, BackwardLayer (Backward a) e) => a -> e -> (Forward (Backward a), e)\n",
    "reverse a e = uncurry backward $ forward a e"
   ]
  },
  {
   "cell_type": "code",
   "execution_count": null,
   "metadata": {},
   "outputs": [],
   "source": [
    "reverse Air 0"
   ]
  },
  {
   "cell_type": "code",
   "execution_count": null,
   "metadata": {},
   "outputs": [],
   "source": [
    "recursive a (e:es) = foldr f (a, [e]) es\n",
    "  where\n",
    "    f e (a, x:r) = let (n, v) = reverse a x in (n, v:x:r)"
   ]
  },
  {
   "cell_type": "code",
   "execution_count": null,
   "metadata": {},
   "outputs": [],
   "source": [
    "recursive (Sky 2) [2, 3, 4]"
   ]
  },
  {
   "cell_type": "code",
   "execution_count": null,
   "metadata": {},
   "outputs": [],
   "source": [
    "reverse (Sky 2) 2"
   ]
  },
  {
   "cell_type": "code",
   "execution_count": null,
   "metadata": {},
   "outputs": [],
   "source": [
    "join :: (j) a -> [b] -> c\n",
    "join y (x:xs) = join (x ~> Air ~> y) xs\n",
    "join y [] = Air ~> y"
   ]
  }
 ],
 "metadata": {
  "kernelspec": {
   "display_name": "Haskell",
   "language": "haskell",
   "name": "haskell"
  },
  "language_info": {
   "codemirror_mode": "ihaskell",
   "file_extension": ".hs",
   "name": "haskell",
   "pygments_lexer": "Haskell",
   "version": "8.6.5"
  }
 },
 "nbformat": 4,
 "nbformat_minor": 2
}
