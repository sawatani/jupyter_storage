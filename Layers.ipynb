{
 "cells": [
  {
   "cell_type": "code",
   "execution_count": null,
   "metadata": {},
   "outputs": [],
   "source": [
    "{-# LANGUAGE AllowAmbiguousTypes #-}\n",
    "{-# LANGUAGE MultiParamTypeClasses #-}\n",
    "{-# LANGUAGE KindSignatures #-}\n",
    "{-# LANGUAGE FlexibleContexts #-}\n",
    "{-# LANGUAGE FlexibleInstances #-}\n",
    "{-# LANGUAGE TypeFamilies #-}"
   ]
  },
  {
   "cell_type": "code",
   "execution_count": null,
   "metadata": {},
   "outputs": [],
   "source": [
    "import Data.String"
   ]
  },
  {
   "cell_type": "code",
   "execution_count": null,
   "metadata": {},
   "outputs": [],
   "source": [
    "class ForwardLayer (a :: * -> *) e where\n",
    "  type Backward a :: * -> *\n",
    "  forward :: (Num e, BackwardLayer (Backward a) e) => a e -> e -> (Backward a e, e)\n",
    "\n",
    "class BackwardLayer (a :: * -> *) e where\n",
    "  type Forward a :: * -> *\n",
    "  backward :: (Num e, ForwardLayer (Forward a) e) => a e -> e -> (Forward a e, e)"
   ]
  },
  {
   "cell_type": "code",
   "execution_count": null,
   "metadata": {},
   "outputs": [],
   "source": [
    "newtype Sky e = Sky e deriving (Show, Eq)\n",
    "newtype Cosmo e = Cosmo e deriving (Show, Eq)\n",
    "newtype Ground e = Ground e deriving (Show, Eq)\n",
    "newtype Sea e = Sea e deriving (Show, Eq)"
   ]
  },
  {
   "cell_type": "code",
   "execution_count": null,
   "metadata": {},
   "outputs": [],
   "source": [
    "data JoinedForward a b e = JoinedForward (a e) (b e) deriving (Show, Eq)\n",
    "data JoinedBackward a b e = JoinedBackward (a e) (b e) deriving (Show, Eq)"
   ]
  },
  {
   "cell_type": "code",
   "execution_count": null,
   "metadata": {},
   "outputs": [],
   "source": [
    "instance ForwardLayer Sky e where\n",
    "  type Backward Sky = Ground\n",
    "  forward (Sky e) e' = (Ground e, e + e')"
   ]
  },
  {
   "cell_type": "code",
   "execution_count": null,
   "metadata": {},
   "outputs": [],
   "source": [
    "instance ForwardLayer Cosmo e where\n",
    "  type Backward Cosmo = Sea\n",
    "  forward (Cosmo e) e' = (Sea e, e + e')"
   ]
  },
  {
   "cell_type": "code",
   "execution_count": null,
   "metadata": {},
   "outputs": [],
   "source": [
    "instance (ForwardLayer a e, ForwardLayer b e) => ForwardLayer (JoinedForward a b) e where\n",
    "  type Backward (JoinedForward a b) = JoinedBackward (Backward a) (Backward b)\n",
    "  forward (JoinedForward a b) e0 = (JoinedBackward a' b', e2)\n",
    "      where\n",
    "          (a', e1) = forward a e0 :: (Backward a e, e)\n",
    "          (b', e2) = forward b e1 :: (Backward b e, e)"
   ]
  },
  {
   "cell_type": "code",
   "execution_count": null,
   "metadata": {},
   "outputs": [],
   "source": [
    "instance BackwardLayer Ground e where\n",
    "  type Forward Ground = Sky\n",
    "  backward (Ground e) e' = (Sky e, e - e')"
   ]
  },
  {
   "cell_type": "code",
   "execution_count": null,
   "metadata": {},
   "outputs": [],
   "source": [
    "forward (Sky 1) 2"
   ]
  },
  {
   "cell_type": "code",
   "execution_count": null,
   "metadata": {},
   "outputs": [],
   "source": [
    "backward (Ground 2) 1"
   ]
  },
  {
   "cell_type": "code",
   "execution_count": null,
   "metadata": {},
   "outputs": [],
   "source": [
    "backward $ forward (Sky 2)"
   ]
  },
  {
   "cell_type": "code",
   "execution_count": null,
   "metadata": {},
   "outputs": [],
   "source": []
  }
 ],
 "metadata": {
  "kernelspec": {
   "display_name": "Haskell",
   "language": "haskell",
   "name": "haskell"
  },
  "language_info": {
   "codemirror_mode": "ihaskell",
   "file_extension": ".hs",
   "name": "haskell",
   "pygments_lexer": "Haskell",
   "version": "8.6.5"
  }
 },
 "nbformat": 4,
 "nbformat_minor": 2
}
