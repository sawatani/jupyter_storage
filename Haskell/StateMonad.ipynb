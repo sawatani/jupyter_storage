{
 "cells": [
  {
   "cell_type": "code",
   "execution_count": null,
   "metadata": {},
   "outputs": [],
   "source": [
    "{-# LANGUAGE MonomorphismRestriction #-}\n",
    "{-# LANGUAGE KindSignatures #-}\n",
    "\n",
    "import System.Random\n",
    "import Control.Monad.State\n",
    "import Data.Tuple.Extra"
   ]
  },
  {
   "cell_type": "code",
   "execution_count": null,
   "metadata": {},
   "outputs": [],
   "source": [
    "newtype MyState s a = MyState { runState :: s -> (a, s)}\n",
    "\n",
    "returnState :: a -> MyState s a\n",
    "returnState a = MyState $ \\s -> (a, s)\n",
    "\n",
    "bindState :: MyState s a -> (a -> MyState s b) -> MyState s b\n",
    "bindState m k = MyState $ \\s -> let (a, s') = runState m s\n",
    "    in runState (k a) s'\n",
    "\n",
    "getState :: MyState s s\n",
    "getState = MyState $ \\s -> (s, s)\n",
    "\n",
    "putState :: s -> MyState s ()\n",
    "putState s = MyState $ \\_ -> ((), s)"
   ]
  },
  {
   "cell_type": "code",
   "execution_count": null,
   "metadata": {},
   "outputs": [],
   "source": [
    "instance Functor (MyState s) where\n",
    "    fmap f m = MyState $ \\s -> first f $ runState m s\n",
    "\n",
    "instance Applicative (MyState s) where\n",
    "    pure a = MyState $ \\s -> ((), a)\n",
    "    (<*>) f m = fmap f' m"
   ]
  },
  {
   "cell_type": "code",
   "execution_count": null,
   "metadata": {},
   "outputs": [],
   "source": [
    ":info Applicative"
   ]
  },
  {
   "cell_type": "code",
   "execution_count": null,
   "metadata": {},
   "outputs": [],
   "source": [
    "type RandomState = State StdGen\n",
    "\n",
    "getRandom :: Random a => RandomState a\n",
    "getRandom = do\n",
    "    g <- get\n",
    "    let (v, g') = random g\n",
    "    put g'\n",
    "    return v\n",
    "\n",
    "getTwoRandoms :: Random a => RandomState (a, a)\n",
    "getTwoRandoms = liftM2 (,) getRandom getRandom"
   ]
  },
  {
   "cell_type": "code",
   "execution_count": null,
   "metadata": {},
   "outputs": [],
   "source": [
    "runTwoRandoms :: IO (Int, Int)\n",
    "runTwoRandoms = do\n",
    "    s <- getStdGen\n",
    "    let (r, s') = runState getTwoRandoms s\n",
    "    setStdGen s'\n",
    "    return r\n",
    "\n",
    "runTwoRandoms >>= print"
   ]
  }
 ],
 "metadata": {
  "hide_input": false,
  "kernelspec": {
   "display_name": "Haskell",
   "language": "haskell",
   "name": "haskell"
  },
  "language_info": {
   "codemirror_mode": "ihaskell",
   "file_extension": ".hs",
   "name": "haskell",
   "pygments_lexer": "Haskell",
   "version": "8.6.3"
  }
 },
 "nbformat": 4,
 "nbformat_minor": 2
}
