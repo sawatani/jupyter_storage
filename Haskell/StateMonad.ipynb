{
 "cells": [
  {
   "cell_type": "code",
   "execution_count": null,
   "metadata": {},
   "outputs": [],
   "source": [
    "{-# LANGUAGE MonomorphismRestriction #-}\n",
    "\n",
    "import System.Random\n",
    "import Control.Monad.State"
   ]
  },
  {
   "cell_type": "code",
   "execution_count": null,
   "metadata": {},
   "outputs": [],
   "source": [
    "type RandomState = State StdGen\n",
    "\n",
    "getRandom :: Random a => RandomState a\n",
    "getRandom = do\n",
    "    g <- get\n",
    "    let (v, g') = random g\n",
    "    put g'\n",
    "    return v\n",
    "\n",
    "getTwoRandoms :: Random a => RandomState (a, a)\n",
    "getTwoRandoms = liftM2 (,) getRandom getRandom"
   ]
  },
  {
   "cell_type": "code",
   "execution_count": null,
   "metadata": {},
   "outputs": [],
   "source": [
    ": StdGen"
   ]
  },
  {
   "cell_type": "code",
   "execution_count": null,
   "metadata": {},
   "outputs": [],
   "source": [
    "runTwoRandoms :: IO (Int, Int)\n",
    "runTwoRandoms = do\n",
    "    s <- getStdGen\n",
    "    let (r, s') = runState getTwoRandoms s\n",
    "    setStdGen s'\n",
    "    return r\n",
    "\n",
    "runTwoRandoms >>= print"
   ]
  }
 ],
 "metadata": {
  "hide_input": false,
  "kernelspec": {
   "display_name": "Haskell",
   "language": "haskell",
   "name": "haskell"
  },
  "language_info": {
   "codemirror_mode": "ihaskell",
   "file_extension": ".hs",
   "name": "haskell",
   "pygments_lexer": "Haskell",
   "version": "8.6.3"
  }
 },
 "nbformat": 4,
 "nbformat_minor": 2
}
