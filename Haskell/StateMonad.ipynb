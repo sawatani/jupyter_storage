{
 "cells": [
  {
   "cell_type": "code",
   "execution_count": null,
   "metadata": {},
   "outputs": [],
   "source": [
    "import System.Random"
   ]
  },
  {
   "cell_type": "code",
   "execution_count": null,
   "metadata": {},
   "outputs": [],
   "source": [
    "type SimpleState s a = s -> (a, s)\n",
    "\n",
    "returnSt :: a -> SimpleState s a\n",
    "returnSt a s = (a, s)\n",
    "\n",
    "bindSt :: (SimpleState s a) -> (a -> SimpleState s b) -> SimpleState s b\n",
    "bindSt m k s = (k a) s'\n",
    "    where (a, s') = m s\n",
    "\n",
    "getSt :: SimpleState s s\n",
    "getSt = \\s -> (s, s)\n",
    "\n",
    "putSt :: s -> SimpleState s ()\n",
    "putSt s = \\_ -> ((), s)"
   ]
  },
  {
   "cell_type": "code",
   "execution_count": null,
   "metadata": {},
   "outputs": [],
   "source": [
    "newtype State s a = State { runState :: s -> (a, s)}\n",
    "\n",
    "returnState :: a -> State s a\n",
    "returnState a = State $ \\s -> (a, s)\n",
    "\n",
    "bindState :: State s a -> (a -> State s b) -> State s b\n",
    "bindState m k = State $ \\s -> let (a, s') = runState m s\n",
    "    in runState (k a) s'\n",
    "\n",
    "get :: State s s\n",
    "get = State $ \\s -> (s, s)\n",
    "\n",
    "put :: s -> State s ()\n",
    "put s = State $ \\_ -> ((), s)"
   ]
  },
  {
   "cell_type": "code",
   "execution_count": null,
   "metadata": {},
   "outputs": [],
   "source": [
    "instance Functor (State a) where\n",
    "\n",
    "instance Applicative (State a) where\n",
    "\n",
    "instance Monad (State a) where\n",
    "    (>>=) = bindState\n",
    "    return = returnState"
   ]
  },
  {
   "cell_type": "code",
   "execution_count": null,
   "metadata": {},
   "outputs": [],
   "source": [
    ":type random\n",
    ":type getStdGen"
   ]
  },
  {
   "cell_type": "code",
   "execution_count": null,
   "metadata": {},
   "outputs": [],
   "source": [
    "type RandomState a = State StdGen a\n",
    "\n",
    "getRandom :: Random a => RandomState a\n",
    "getRandom = do\n",
    "    g <- get\n",
    "    let (v, g') = random g\n",
    "    put g'\n",
    "    return v"
   ]
  }
 ],
 "metadata": {
  "hide_input": false,
  "kernelspec": {
   "display_name": "Haskell",
   "language": "haskell",
   "name": "haskell"
  },
  "language_info": {
   "codemirror_mode": "ihaskell",
   "file_extension": ".hs",
   "name": "haskell",
   "pygments_lexer": "Haskell",
   "version": "8.6.3"
  }
 },
 "nbformat": 4,
 "nbformat_minor": 2
}
