{
 "cells": [
  {
   "cell_type": "code",
   "execution_count": null,
   "metadata": {},
   "outputs": [],
   "source": [
    "type SimpleState s a = s -> (a, s)\n",
    "\n",
    "type StringState a = SimpleState String a\n",
    "\n",
    "returnSt :: a -> SimpleState s a\n",
    "returnSt a s = (a, s)\n",
    "\n",
    "bindSt :: (SimpleState s a) -> (a -> SimpleState s b) -> SimpleState s b\n",
    "bindSt m k s = (k a) s'\n",
    "    where (a, s') = m s\n",
    "\n",
    "getSt :: SimpleState s s\n",
    "getSt = \\s -> (s, s)\n",
    "\n",
    "putSt :: s -> SimpleState s ()\n",
    "putSt s = \\_ -> ((), s)"
   ]
  },
  {
   "cell_type": "code",
   "execution_count": null,
   "metadata": {},
   "outputs": [],
   "source": [
    "newtype State s a = State { runState :: s -> (a, s)}\n",
    "\n",
    "returnState :: a -> State s a\n",
    "returnState a = State $ \\s -> (a, s)\n",
    "\n",
    "bindState :: State s a -> (a -> State s b) -> State s b\n",
    "bindState m k = State $ \\s -> let (a, s') = runState m s\n",
    "    in runState (k a) s'\n",
    "\n",
    "get :: State s s\n",
    "get = State $ \\s -> (s, s)\n",
    "\n",
    "put :: s -> State s ()\n",
    "put s = State $ \\_ -> ((), s)"
   ]
  },
  {
   "cell_type": "code",
   "execution_count": null,
   "metadata": {},
   "outputs": [],
   "source": []
  }
 ],
 "metadata": {
  "hide_input": false,
  "kernelspec": {
   "display_name": "Haskell",
   "language": "haskell",
   "name": "haskell"
  },
  "language_info": {
   "codemirror_mode": "ihaskell",
   "file_extension": ".hs",
   "name": "haskell",
   "pygments_lexer": "Haskell",
   "version": "8.6.3"
  }
 },
 "nbformat": 4,
 "nbformat_minor": 2
}
