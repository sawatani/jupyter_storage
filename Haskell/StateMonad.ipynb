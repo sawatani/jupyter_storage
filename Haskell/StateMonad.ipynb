{
 "cells": [
  {
   "cell_type": "code",
   "execution_count": null,
   "metadata": {},
   "outputs": [],
   "source": [
    "type SimpleState s a = s -> (a, s)\n",
    "\n",
    "type StringState a = SimpleState String a\n",
    "\n",
    "returnSt :: a -> SimpleState s a\n",
    "returnSt a s = (a, s)\n",
    "\n",
    "bindSt :: (SimpleState s a) -> (a -> SimpleState s b) -> SimpleState s b\n",
    "bindSt m k s = (k a) s'\n",
    "    where (a, s') = m s"
   ]
  },
  {
   "cell_type": "code",
   "execution_count": null,
   "metadata": {},
   "outputs": [],
   "source": [
    "newtype State s a = State { runState :: s -> (a, s)}\n",
    "\n",
    "returnState :: a -> State s a\n",
    "returnState a = State $ \\s -> (a, s)\n",
    "\n",
    "bindState :: State s a -> (a -> State s b) -> State s b\n",
    "bindState m k = State $ \\s -> let "
   ]
  }
 ],
 "metadata": {
  "hide_input": false,
  "kernelspec": {
   "display_name": "Haskell",
   "language": "haskell",
   "name": "haskell"
  },
  "language_info": {
   "codemirror_mode": "ihaskell",
   "file_extension": ".hs",
   "name": "haskell",
   "pygments_lexer": "Haskell",
   "version": "8.6.3"
  }
 },
 "nbformat": 4,
 "nbformat_minor": 2
}
