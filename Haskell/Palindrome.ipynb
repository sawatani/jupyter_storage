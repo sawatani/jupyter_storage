{
 "cells": [
  {
   "cell_type": "code",
   "execution_count": null,
   "metadata": {},
   "outputs": [],
   "source": [
    "isPalindrome :: String -> Bool\n",
    "isPalindrome word = isEq ha hb\n",
    "  where\n",
    "    lh = length word `div` 2\n",
    "    (ha, bs) = splitAt lh word\n",
    "    hb = take lh $ reverse bs\n",
    "    isEq [] [] = True\n",
    "    isEq (a:xs) (b:ys) = a == b && isEq xs ys"
   ]
  }
 ],
 "metadata": {
  "kernelspec": {
   "display_name": "Haskell",
   "language": "haskell",
   "name": "haskell"
  },
  "language_info": {
   "codemirror_mode": "ihaskell",
   "file_extension": ".hs",
   "name": "haskell",
   "pygments_lexer": "Haskell",
   "version": "8.6.5"
  }
 },
 "nbformat": 4,
 "nbformat_minor": 2
}
