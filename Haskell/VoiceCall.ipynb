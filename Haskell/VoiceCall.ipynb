{
 "cells": [
  {
   "cell_type": "code",
   "execution_count": null,
   "metadata": {},
   "outputs": [],
   "source": [
    "{-# LANGUAGE MonomorphismRestriction #-}\n",
    "{-# LANGUAGE FlexibleContexts #-}\n",
    "\n",
    "import Control.Monad.State\n",
    "import Numeric.LinearAlgebra\n",
    "import Numeric.LinearAlgebra.Data\n",
    "import Numeric\n",
    "import Prelude hiding ((<>))"
   ]
  },
  {
   "cell_type": "markdown",
   "metadata": {},
   "source": [
    "$ Sigmoid $\n",
    "\n",
    "\\begin{equation}\n",
    "  h(x) = \\frac\n",
    "  {1}\n",
    "  {1 + \\exp(-x)}\n",
    "\\end{equation}"
   ]
  },
  {
   "cell_type": "markdown",
   "metadata": {},
   "source": [
    "$ ReLU $\n",
    "\n",
    "\\begin{equation}\n",
    "  h(x) = \\begin{cases}\n",
    "  x & (x > 0) \\\\\n",
    "  0 & (x \\le 0)\n",
    "  \\end{cases}\n",
    "\\end{equation}"
   ]
  },
  {
   "cell_type": "markdown",
   "metadata": {},
   "source": [
    "$ Softmax $\n",
    "\n",
    "\\begin{equation}\n",
    "  y_x = \\frac\n",
    "  {\\exp(a_k - m)}\n",
    "  {\\displaystyle \\sum_{i=1}^{n}\\exp(a_i - m)}\n",
    "  where {m = max(a)}\n",
    "\\end{equation}"
   ]
  },
  {
   "cell_type": "code",
   "execution_count": null,
   "metadata": {},
   "outputs": [],
   "source": [
    "sigmoid :: (Floating a) => a -> a\n",
    "sigmoid a = fromIntegral 1 / (fromIntegral 1 + exp (-a))\n",
    "\n",
    "sigmoidm :: (Floating a, Container Matrix a) => Matrix a -> Matrix a\n",
    "sigmoidm = cmap sigmoid\n",
    "\n",
    "relu :: (Ord a, Num a) => a -> a\n",
    "relu = max $ fromIntegral 0\n",
    "\n",
    "relum :: (Ord a, Num a, Container Matrix a) => Matrix a -> Matrix a\n",
    "relum = cmap relu"
   ]
  },
  {
   "cell_type": "code",
   "execution_count": null,
   "metadata": {},
   "outputs": [],
   "source": [
    ":type (<>)"
   ]
  },
  {
   "cell_type": "code",
   "execution_count": null,
   "metadata": {},
   "outputs": [],
   "source": [
    "xs = ((2><2)[-2.0..]) :: Matrix R\n",
    "vs = vector [1.0..2.0]\n",
    ":type xs\n",
    ":type vs\n",
    "print xs\n",
    "print vs\n",
    "print $ xs #> vs\n",
    "print $ vs <# xs"
   ]
  }
 ],
 "metadata": {
  "hide_input": false,
  "kernelspec": {
   "display_name": "Haskell",
   "language": "haskell",
   "name": "haskell"
  },
  "language_info": {
   "codemirror_mode": "ihaskell",
   "file_extension": ".hs",
   "name": "haskell",
   "pygments_lexer": "Haskell",
   "version": "8.6.3"
  }
 },
 "nbformat": 4,
 "nbformat_minor": 2
}
