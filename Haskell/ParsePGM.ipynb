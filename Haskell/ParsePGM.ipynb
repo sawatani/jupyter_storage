{
 "cells": [
  {
   "cell_type": "code",
   "execution_count": null,
   "metadata": {
    "ExecuteTime": {
     "end_time": "2019-03-01T11:49:20.286462Z",
     "start_time": "2019-03-01T11:49:20.331Z"
    }
   },
   "outputs": [],
   "source": [
    "import qualified Data.ByteString.Lazy.Char8 as L8\n",
    "import qualified Data.ByteString.Lazy as L\n",
    "import Data.Char (isSpace)\n",
    "import Data.Int (Int64)\n",
    "import Data.Word (Word8)"
   ]
  },
  {
   "cell_type": "code",
   "execution_count": null,
   "metadata": {
    "ExecuteTime": {
     "end_time": "2019-03-01T11:37:05.663014Z",
     "start_time": "2019-03-01T11:37:06.013Z"
    }
   },
   "outputs": [],
   "source": [
    "data ParseState = ParseState {\n",
    "    string :: L.ByteString\n",
    "  , offset :: Int64\n",
    "  } deriving (Show)\n",
    "\n",
    "newtype Parse a = Parse {\n",
    "    runParse :: ParseState -> Either String (a, ParseState)\n",
    "  }"
   ]
  },
  {
   "cell_type": "code",
   "execution_count": null,
   "metadata": {
    "ExecuteTime": {
     "end_time": "2019-03-01T11:44:47.555976Z",
     "start_time": "2019-03-01T11:44:47.742Z"
    }
   },
   "outputs": [],
   "source": [
    "getState :: Parse ParseState\n",
    "getState = Parse (\\s -> Right (s, s))\n",
    "\n",
    "putState :: ParseState -> Parse ()\n",
    "putState s = Parse (\\_ -> Right ((), s))"
   ]
  },
  {
   "cell_type": "code",
   "execution_count": null,
   "metadata": {
    "ExecuteTime": {
     "end_time": "2019-03-01T11:57:02.337865Z",
     "start_time": "2019-03-01T11:57:02.309Z"
    }
   },
   "outputs": [],
   "source": [
    "(==>) :: Parse a -> (a -> Parse b) -> Parse b\n",
    "firstParser ==> secondParser = Parse chainedParser\n",
    "    where chainedParser initState =\n",
    "        case runParse firstParser initState of\n",
    "            Left errMsg -> Left errMsg\n",
    "            Right (firstResult, newState) ->\n",
    "                runParse (secondParser firstResult) newState"
   ]
  },
  {
   "cell_type": "code",
   "execution_count": null,
   "metadata": {
    "ExecuteTime": {
     "end_time": "2019-03-01T11:38:04.501926Z",
     "start_time": "2019-03-01T11:38:04.877Z"
    }
   },
   "outputs": [],
   "source": [
    "identity :: a -> Parse a\n",
    "identity a = Parse (\\s -> Right (a, s))"
   ]
  },
  {
   "cell_type": "code",
   "execution_count": null,
   "metadata": {
    "ExecuteTime": {
     "end_time": "2019-03-01T11:40:01.195515Z",
     "start_time": "2019-03-01T11:40:01.517Z"
    }
   },
   "outputs": [],
   "source": [
    "parse :: Parse a -> L.ByteString -> Either String a\n",
    "parse parser initState\n",
    "    = case runParse parser (ParseState initState 0) of\n",
    "        Left err -> Left err\n",
    "        Right (result, _) -> Right result"
   ]
  },
  {
   "cell_type": "code",
   "execution_count": null,
   "metadata": {
    "ExecuteTime": {
     "end_time": "2019-03-01T11:53:58.084974Z",
     "start_time": "2019-03-01T11:53:58.099Z"
    }
   },
   "outputs": [],
   "source": [
    "parseByte :: Parse Word8\n",
    "parseByte = getState ==> \\initState ->\n",
    "    case L.uncons (string initState) of\n",
    "        Nothing -> bail \"no more input\"\n",
    "        Just (byte, remainder) -> putState newState ==> \\_ -> identity byte\n",
    "            where\n",
    "                newState = initState { string = remainder\n",
    "                                                      , offset = newOffset }\n",
    "                newOffset = offset initState + 1"
   ]
  },
  {
   "cell_type": "code",
   "execution_count": null,
   "metadata": {},
   "outputs": [],
   "source": []
  }
 ],
 "metadata": {
  "hide_input": false,
  "kernelspec": {
   "display_name": "Haskell",
   "language": "haskell",
   "name": "haskell"
  },
  "language_info": {
   "codemirror_mode": "ihaskell",
   "file_extension": ".hs",
   "name": "haskell",
   "pygments_lexer": "Haskell",
   "version": "8.6.3"
  }
 },
 "nbformat": 4,
 "nbformat_minor": 2
}
