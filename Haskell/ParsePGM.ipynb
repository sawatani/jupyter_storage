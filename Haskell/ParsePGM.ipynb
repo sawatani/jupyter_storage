{
 "cells": [
  {
   "cell_type": "code",
   "execution_count": null,
   "metadata": {
    "ExecuteTime": {
     "end_time": "2019-03-01T11:35:30.056447Z",
     "start_time": "2019-03-01T11:35:30.348Z"
    }
   },
   "outputs": [],
   "source": [
    "import qualified Data.ByteString.Lazy.Char8 as L8\n",
    "import qualified Data.ByteString.Lazy as L\n",
    "import Data.Char (isSpace)"
   ]
  },
  {
   "cell_type": "code",
   "execution_count": null,
   "metadata": {
    "ExecuteTime": {
     "end_time": "2019-03-01T11:35:36.352899Z",
     "start_time": "2019-03-01T11:35:36.910Z"
    }
   },
   "outputs": [],
   "source": [
    "data ParseState = ParseState {\n",
    "    string :: L.ByteString\n",
    "  , offset :: Int64\n",
    "} deriving (Show)\n",
    "\n",
    "newtype Parse a = Parse {\n",
    "    runParse :: ParseState -> Either String (a, ParseState)\n",
    "}"
   ]
  }
 ],
 "metadata": {
  "hide_input": false,
  "kernelspec": {
   "display_name": "Haskell",
   "language": "haskell",
   "name": "haskell"
  },
  "language_info": {
   "codemirror_mode": "ihaskell",
   "file_extension": ".hs",
   "name": "haskell",
   "pygments_lexer": "Haskell",
   "version": "8.6.3"
  }
 },
 "nbformat": 4,
 "nbformat_minor": 2
}
