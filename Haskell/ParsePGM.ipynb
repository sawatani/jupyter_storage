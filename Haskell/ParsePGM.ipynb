{
 "cells": [
  {
   "cell_type": "code",
   "execution_count": null,
   "metadata": {
    "ExecuteTime": {
     "end_time": "2019-03-01T11:37:03.322015Z",
     "start_time": "2019-03-01T11:37:03.721Z"
    }
   },
   "outputs": [],
   "source": [
    "import qualified Data.ByteString.Lazy.Char8 as L8\n",
    "import qualified Data.ByteString.Lazy as L\n",
    "import Data.Char (isSpace)\n",
    "import Data.Int (Int64)"
   ]
  },
  {
   "cell_type": "code",
   "execution_count": null,
   "metadata": {
    "ExecuteTime": {
     "end_time": "2019-03-01T11:37:05.663014Z",
     "start_time": "2019-03-01T11:37:06.013Z"
    }
   },
   "outputs": [],
   "source": [
    "data ParseState = ParseState {\n",
    "    string :: L.ByteString\n",
    "  , offset :: Int64\n",
    "  } deriving (Show)\n",
    "\n",
    "newtype Parse a = Parse {\n",
    "    runParse :: ParseState -> Either String (a, ParseState)\n",
    "  }"
   ]
  },
  {
   "cell_type": "code",
   "execution_count": null,
   "metadata": {},
   "outputs": [],
   "source": [
    "identity :: a -> Parse a\n",
    "identity a -"
   ]
  }
 ],
 "metadata": {
  "hide_input": false,
  "kernelspec": {
   "display_name": "Haskell",
   "language": "haskell",
   "name": "haskell"
  },
  "language_info": {
   "codemirror_mode": "ihaskell",
   "file_extension": ".hs",
   "name": "haskell",
   "pygments_lexer": "Haskell",
   "version": "8.6.3"
  }
 },
 "nbformat": 4,
 "nbformat_minor": 2
}
