{
 "cells": [
  {
   "cell_type": "code",
   "execution_count": null,
   "metadata": {
    "ExecuteTime": {
     "end_time": "2019-03-02T06:32:04.208141Z",
     "start_time": "2019-03-02T06:32:04.064Z"
    }
   },
   "outputs": [],
   "source": [
    "import qualified Data.ByteString.Lazy.Char8 as L8\n",
    "import qualified Data.ByteString.Lazy as L\n",
    "import Data.Char (isSpace, chr)\n",
    "import Data.Int (Int64)\n",
    "import Data.Word (Word8)"
   ]
  },
  {
   "cell_type": "code",
   "execution_count": null,
   "metadata": {
    "ExecuteTime": {
     "end_time": "2019-03-01T11:37:05.663014Z",
     "start_time": "2019-03-01T11:37:06.013Z"
    }
   },
   "outputs": [],
   "source": [
    "data ParseState = ParseState {\n",
    "    string :: L.ByteString\n",
    "  , offset :: Int64\n",
    "  } deriving (Show)\n",
    "\n",
    "newtype Parse a = Parse {\n",
    "    runParse :: ParseState -> Either String (a, ParseState)\n",
    "  }"
   ]
  },
  {
   "cell_type": "code",
   "execution_count": null,
   "metadata": {
    "ExecuteTime": {
     "end_time": "2019-03-01T11:44:47.555976Z",
     "start_time": "2019-03-01T11:44:47.742Z"
    }
   },
   "outputs": [],
   "source": [
    "getState :: Parse ParseState\n",
    "getState = Parse (\\s -> Right (s, s))\n",
    "\n",
    "putState :: ParseState -> Parse ()\n",
    "putState s = Parse (\\_ -> Right ((), s))"
   ]
  },
  {
   "cell_type": "code",
   "execution_count": null,
   "metadata": {
    "ExecuteTime": {
     "end_time": "2019-03-01T11:38:04.501926Z",
     "start_time": "2019-03-01T11:38:04.877Z"
    }
   },
   "outputs": [],
   "source": [
    "identity :: a -> Parse a\n",
    "identity a = Parse (\\s -> Right (a, s))"
   ]
  },
  {
   "cell_type": "code",
   "execution_count": null,
   "metadata": {
    "ExecuteTime": {
     "end_time": "2019-03-01T12:00:02.515374Z",
     "start_time": "2019-03-01T12:00:02.361Z"
    }
   },
   "outputs": [],
   "source": [
    "bail :: String -> Parse a\n",
    "bail err = Parse $ \\s -> Left $\n",
    "    \"byte offset \" ++ show (offset s) ++ \": \" ++ err"
   ]
  },
  {
   "cell_type": "code",
   "execution_count": null,
   "metadata": {
    "ExecuteTime": {
     "end_time": "2019-03-01T11:58:14.209421Z",
     "start_time": "2019-03-01T11:58:14.057Z"
    }
   },
   "outputs": [],
   "source": [
    "(==>) :: Parse a -> (a -> Parse b) -> Parse b\n",
    "firstParser ==> secondParser = Parse chainedParser\n",
    "    where \n",
    "        chainedParser initState = case runParse firstParser initState of\n",
    "            Left errMsg -> Left errMsg\n",
    "            Right (firstResult, newState) ->\n",
    "                runParse (secondParser firstResult) newState"
   ]
  },
  {
   "cell_type": "code",
   "execution_count": null,
   "metadata": {
    "ExecuteTime": {
     "end_time": "2019-03-01T11:38:04.501926Z",
     "start_time": "2019-03-01T11:38:04.877Z"
    }
   },
   "outputs": [],
   "source": [
    "identity :: a -> Parse a\n",
    "identity a = Parse (\\s -> Right (a, s))"
   ]
  },
  {
   "cell_type": "code",
   "execution_count": null,
   "metadata": {
    "ExecuteTime": {
     "end_time": "2019-03-02T03:21:24.300855Z",
     "start_time": "2019-03-02T03:35:14.400Z"
    }
   },
   "outputs": [],
   "source": [
    "instance Functor Parse where\n",
    "    fmap f parser = parser ==> \\result ->\n",
    "        identity (f result)"
   ]
  },
  {
   "cell_type": "code",
   "execution_count": null,
   "metadata": {
    "ExecuteTime": {
     "end_time": "2019-03-01T11:40:01.195515Z",
     "start_time": "2019-03-01T11:40:01.517Z"
    }
   },
   "outputs": [],
   "source": [
    "parse :: Parse a -> L.ByteString -> Either String a\n",
    "parse parser initState\n",
    "    = case runParse parser (ParseState initState 0) of\n",
    "        Left err -> Left err\n",
    "        Right (result, _) -> Right result"
   ]
  },
  {
   "cell_type": "code",
   "execution_count": null,
   "metadata": {
    "ExecuteTime": {
     "end_time": "2019-03-01T11:38:04.501926Z",
     "start_time": "2019-03-01T11:38:04.877Z"
    }
   },
   "outputs": [],
   "source": [
    "identity :: a -> Parse a\n",
    "identity a = Parse (\\s -> Right (a, s))"
   ]
  },
  {
   "cell_type": "code",
   "execution_count": null,
   "metadata": {
    "ExecuteTime": {
     "end_time": "2019-03-01T12:00:07.563021Z",
     "start_time": "2019-03-01T12:00:07.396Z"
    }
   },
   "outputs": [],
   "source": [
    "parseByte :: Parse Word8\n",
    "parseByte = getState ==> \\initState ->\n",
    "    case L.uncons (string initState) of\n",
    "        Nothing -> bail \"no more input\"\n",
    "        Just (byte, remainder) -> putState newState ==> \\_ -> identity byte\n",
    "            where\n",
    "                newState = initState { string = remainder\n",
    "                                                      , offset = newOffset }\n",
    "                newOffset = offset initState + 1"
   ]
  },
  {
   "cell_type": "code",
   "execution_count": null,
   "metadata": {
    "ExecuteTime": {
     "end_time": "2019-03-02T06:34:57.733756Z",
     "start_time": "2019-03-02T06:34:57.609Z"
    }
   },
   "outputs": [],
   "source": [
    "w2c :: Word8 -> Char\n",
    "w2c = chr . fromIntegral\n",
    "\n",
    "parseChar :: Parse Char\n",
    "parseChar = w2c <$> parseByte\n",
    "\n",
    "peekByte :: Parse (Maybe Word8)\n",
    "peekByte = (fmap fst . L.uncons . string) <$> getState\n",
    "\n",
    "peekChar :: Parse (Maybe Char)\n",
    "peekChar = fmap w2c <$> peekByte\n",
    "\n",
    "parseWhile :: (Word8 -> Bool) -> Parse [Word8]\n",
    "parseWhile p = (fmap p <$> peekByte) ==>"
   ]
  },
  {
   "cell_type": "code",
   "execution_count": null,
   "metadata": {},
   "outputs": [],
   "source": []
  }
 ],
 "metadata": {
  "hide_input": false,
  "kernelspec": {
   "display_name": "Haskell",
   "language": "haskell",
   "name": "haskell"
  },
  "language_info": {
   "codemirror_mode": "ihaskell",
   "file_extension": ".hs",
   "name": "haskell",
   "pygments_lexer": "Haskell",
   "version": "8.6.3"
  }
 },
 "nbformat": 4,
 "nbformat_minor": 2
}
