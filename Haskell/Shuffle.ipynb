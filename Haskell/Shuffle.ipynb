{
 "cells": [
  {
   "cell_type": "code",
   "execution_count": null,
   "metadata": {},
   "outputs": [],
   "source": [
    "{-# LANGUAGE FlexibleContexts #-}\n",
    "\n",
    "import Control.Monad.ST\n",
    "import Control.Monad.Primitive\n",
    "import Data.Vector.Generic.Base\n",
    "import qualified Data.Vector.Mutable as MV\n",
    "import qualified Data.Vector.Generic as MV\n",
    "import System.Random.MWC"
   ]
  },
  {
   "cell_type": "code",
   "execution_count": null,
   "metadata": {},
   "outputs": [],
   "source": [
    ":info runST"
   ]
  },
  {
   "cell_type": "code",
   "execution_count": null,
   "metadata": {},
   "outputs": [],
   "source": [
    "repeatSwap :: MV.MVector s a -> Gen (PrimState (ST s)) -> Int ->  MV.MVector s a\n",
    "repeatSwap v g 0 = return v\n",
    "repeatSwap v g n = do\n",
    "    let n' = n - 1\n",
    "    i <- uniformR (0, MV.basicLength v) g\n",
    "    MV.swap v i n'\n",
    "    repeatSwap v g n'"
   ]
  },
  {
   "cell_type": "code",
   "execution_count": null,
   "metadata": {},
   "outputs": [],
   "source": [
    "body :: [a] -> Gen (PrimState (ST s)) -> ST s [a]\n",
    "body xs g = do\n",
    "    v <- MV.thaw $ MV.fromList xs\n",
    "    repeatSwap v g $ length v\n",
    "    MV.toList <$> MV.freeze v"
   ]
  },
  {
   "cell_type": "code",
   "execution_count": null,
   "metadata": {},
   "outputs": [],
   "source": [
    "randomST :: [a] -> IO [a]\n",
    "randomST xs = withSystemRandom . asGenST $ body xs"
   ]
  },
  {
   "cell_type": "code",
   "execution_count": null,
   "metadata": {},
   "outputs": [],
   "source": [
    "shuffleList :: (Show a, NFData a) => [a] -> [a]\n",
    "shuffleList (a:[]) = [a]\n",
    "shuffleList xs =  runST $ withSystemRandom . asGenST $ \\g -> do\n",
    "    v <- MV.thaw $ MV.fromList xs\n",
    "    v' <- modify v g n\n",
    "    r <- MV.toList <$> MV.freeze v'\n",
    "    return r\n",
    "        where\n",
    "            n = length xs\n",
    "            modify v g 0 = return v\n",
    "            modify v g i = do\n",
    "                let i' = i - 1\n",
    "                j <- uniformR (0,n) g\n",
    "                MV.swap v i' j\n",
    "                modify v g i'"
   ]
  }
 ],
 "metadata": {
  "kernelspec": {
   "display_name": "Haskell",
   "language": "haskell",
   "name": "haskell"
  },
  "language_info": {
   "codemirror_mode": "ihaskell",
   "file_extension": ".hs",
   "name": "haskell",
   "pygments_lexer": "Haskell",
   "version": "8.6.4"
  }
 },
 "nbformat": 4,
 "nbformat_minor": 2
}
