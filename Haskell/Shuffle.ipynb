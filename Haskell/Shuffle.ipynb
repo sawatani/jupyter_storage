{
 "cells": [
  {
   "cell_type": "code",
   "execution_count": null,
   "metadata": {},
   "outputs": [],
   "source": [
    "{-# LANGUAGE FlexibleContexts #-}\n",
    "{-# LANGUAGE TypeFamilies #-}\n",
    "{-# LANGUAGE AllowAmbiguousTypes #-}\n",
    "\n",
    "import Control.Monad.ST\n",
    "import Control.Monad.Primitive\n",
    "import Data.Vector.Generic.Base\n",
    "import qualified Data.Vector.Generic.Mutable as MV\n",
    "import qualified Data.Vector.Generic as MG\n",
    "import System.Random.MWC"
   ]
  },
  {
   "cell_type": "code",
   "execution_count": null,
   "metadata": {},
   "outputs": [],
   "source": [
    "repeatSwap :: (PrimMonad m, Foldable (Mv (PrimState m)), MV.MVector v a) => v (PrimState m) a -> Gen (PrimState m) -> Int ->  m (v (PrimState m) a)\n",
    "repeatSwap v g 0 = return v\n",
    "repeatSwap v g n = do\n",
    "    let n' = n - 1\n",
    "    i <- uniformR (0, length v) g\n",
    "    MV.swap v i n'\n",
    "    repeatSwap v g n'"
   ]
  },
  {
   "cell_type": "code",
   "execution_count": null,
   "metadata": {},
   "outputs": [],
   "source": [
    "-- body :: (PrimMonad m, Vector v a, Foldable (Mutable v (PrimState m))) => [a] -> Gen (PrimState m) -> m [a]\n",
    "body :: (PrimMonad m, Foldable (v (PrimState m)), MV.MVector v a) => [a] -> Gen (PrimState m) -> m [a]\n",
    "body xs g = do\n",
    "    v <- MG.unsafeThaw $ MG.fromList xs\n",
    "    repeatSwap v g $ length v\n",
    "    MG.toList <$> MG.unsafeFreeze v"
   ]
  },
  {
   "cell_type": "code",
   "execution_count": null,
   "metadata": {},
   "outputs": [],
   "source": [
    "randomST :: (Vector v a, Foldable (Mutable v s)) => [a] -> IO [a]\n",
    "randomST xs = withSystemRandom . asGenST $ body xs"
   ]
  },
  {
   "cell_type": "code",
   "execution_count": null,
   "metadata": {},
   "outputs": [],
   "source": [
    ":info randomST"
   ]
  },
  {
   "cell_type": "code",
   "execution_count": null,
   "metadata": {},
   "outputs": [],
   "source": [
    "print <$> randomST [1, 2, 3, 4, 5, 6]"
   ]
  },
  {
   "cell_type": "code",
   "execution_count": null,
   "metadata": {},
   "outputs": [],
   "source": [
    "shuffleList :: (PrimMonad m, Vector v a, Mutable v (PrimState m) a) => [a] -> IO [a]\n",
    "shuffleList (a:[]) = return [a]\n",
    "shuffleList xs =  withSystemRandom . asGenIO $ \\g -> do\n",
    "    v <- MG.unsafeThaw $ MG.fromList xs\n",
    "    repeatSwap v g n\n",
    "    r <- MG.toList <$> MG.unsafeFreeze v\n",
    "    return r\n",
    "        where\n",
    "            n = length xs\n",
    "            repeatSwap v g 0 = return v\n",
    "            repeatSwap v g i = do\n",
    "                let i' = i - 1\n",
    "                j <- uniformR (0, n) g\n",
    "                MV.swap v j i'\n",
    "                repeatSwap v g i'"
   ]
  }
 ],
 "metadata": {
  "kernelspec": {
   "display_name": "Haskell",
   "language": "haskell",
   "name": "haskell"
  },
  "language_info": {
   "codemirror_mode": "ihaskell",
   "file_extension": ".hs",
   "name": "haskell",
   "pygments_lexer": "Haskell",
   "version": "8.6.4"
  }
 },
 "nbformat": 4,
 "nbformat_minor": 2
}
