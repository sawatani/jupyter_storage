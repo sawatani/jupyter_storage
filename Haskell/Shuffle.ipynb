{
 "cells": [
  {
   "cell_type": "code",
   "execution_count": null,
   "metadata": {},
   "outputs": [],
   "source": [
    "import Control.Monad.ST\n",
    "import Control.Monad.Primitive\n",
    "import Data.Vector.Generic.Base\n",
    "import qualified Data.Vector as V\n",
    "import qualified Data.Vector.Generic.Mutable as MV\n",
    "import qualified Data.Vector.Generic as MG\n",
    "import System.Random.MWC\n",
    "import Debug.Trace"
   ]
  },
  {
   "cell_type": "code",
   "execution_count": null,
   "metadata": {},
   "outputs": [],
   "source": [
    "shuffleList :: (Show a) => [a] -> IO [a]\n",
    "shuffleList [a] = return [a]\n",
    "shuffleList xs =  withSystemRandom . asGenST $ \\g -> do\n",
    "    v <- MG.unsafeThaw $ MG.fromList xs\n",
    "    repeatSwap v g n\n",
    "    (MG.toList :: V.Vector a -> [a])<$> MG.unsafeFreeze v\n",
    "        where\n",
    "            n = length xs\n",
    "            repeatSwap v g 0 = return v\n",
    "            repeatSwap v g i = do\n",
    "                let i' = trace (\"repeatSwap: \" ++ show i) $ i - 1\n",
    "                j <- uniformR (0, n - 1) g\n",
    "                MV.swap v j i'\n",
    "                repeatSwap v g i'"
   ]
  },
  {
   "cell_type": "code",
   "execution_count": null,
   "metadata": {},
   "outputs": [],
   "source": [
    "do\n",
    "    a <- shuffleList [0..9]\n",
    "    print a"
   ]
  }
 ],
 "metadata": {
  "kernelspec": {
   "display_name": "Haskell",
   "language": "haskell",
   "name": "haskell"
  },
  "language_info": {
   "codemirror_mode": "ihaskell",
   "file_extension": ".hs",
   "name": "haskell",
   "pygments_lexer": "Haskell",
   "version": "8.6.4"
  }
 },
 "nbformat": 4,
 "nbformat_minor": 2
}
