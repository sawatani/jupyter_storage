{
 "cells": [
  {
   "cell_type": "code",
   "execution_count": null,
   "metadata": {},
   "outputs": [],
   "source": [
    "{-# LANGUAGE FlexibleContexts #-}\n",
    "{-# LANGUAGE TypeFamilies #-}\n",
    "{-# LANGUAGE AllowAmbiguousTypes #-}\n",
    "{-# LANGUAGE TypeApplications #-}\n",
    "{-# LANGUAGE ScopedTypeVariables #-}\n",
    "\n",
    "import Control.Monad.ST\n",
    "import Control.Monad.Primitive\n",
    "import Data.Vector.Generic.Base\n",
    "import qualified Data.Vector as V\n",
    "import qualified Data.Vector.Generic.Mutable as MV\n",
    "import qualified Data.Vector.Generic as MG\n",
    "import System.Random.MWC\n",
    "import Debug.Trace"
   ]
  },
  {
   "cell_type": "code",
   "execution_count": null,
   "metadata": {},
   "outputs": [],
   "source": [
    "repeatSwap :: (PrimMonad m, MV.MVector v a) => v (PrimState m) a -> Gen (PrimState m) -> Int ->  m (v (PrimState m) a)\n",
    "repeatSwap v g 0 = return v\n",
    "repeatSwap v g n = do\n",
    "    let n' = n - 1\n",
    "    i <- uniformR (0, MV.basicLength v - 1) g\n",
    "    MV.swap v i n'\n",
    "    repeatSwap v g n'"
   ]
  },
  {
   "cell_type": "code",
   "execution_count": null,
   "metadata": {},
   "outputs": [],
   "source": [
    "body :: forall m a. (PrimMonad m) => [a] -> Gen (PrimState m) -> m [a]\n",
    "body xs g = do\n",
    "    v <- MG.unsafeThaw $ (MG.fromList @V.Vector) xs\n",
    "    repeatSwap v g $ MV.basicLength v\n",
    "    MG.toList <$> MG.unsafeFreeze v"
   ]
  },
  {
   "cell_type": "code",
   "execution_count": null,
   "metadata": {},
   "outputs": [],
   "source": [
    "shuffleVector :: (Show a) => [a] -> IO [a]\n",
    "shuffleVector xs = withSystemRandom . asGenIO $ body xs"
   ]
  },
  {
   "cell_type": "code",
   "execution_count": null,
   "metadata": {},
   "outputs": [],
   "source": [
    "print <$> shuffleVector [1..3]"
   ]
  },
  {
   "cell_type": "code",
   "execution_count": null,
   "metadata": {},
   "outputs": [],
   "source": [
    "shuffleList :: (Show a) => [a] -> IO [a]\n",
    "shuffleList [a] = return [a]\n",
    "shuffleList xs =  withSystemRandom . asGenST $ \\g -> do\n",
    "    v <- MG.unsafeThaw $ (MG.fromList @V.Vector) xs\n",
    "    repeatSwap v g n\n",
    "    v' <- MG.unsafeFreeze v\n",
    "    r <- MG.toList $ trace (\"\" ++ show v') v'\n",
    "    return $ trace (\"Result: \" ++ show r) r\n",
    "        where\n",
    "            n = length xs\n",
    "            repeatSwap v g 0 = return v\n",
    "            repeatSwap v g i = do\n",
    "                let i' = trace (\"repeatSwap: \" ++ show i) $ i - 1\n",
    "                j <- uniformR (0, n - 1) g\n",
    "                MV.swap v j i'\n",
    "                repeatSwap v g i'"
   ]
  },
  {
   "cell_type": "code",
   "execution_count": null,
   "metadata": {},
   "outputs": [],
   "source": [
    "print <$> shuffleList [1..10]"
   ]
  }
 ],
 "metadata": {
  "kernelspec": {
   "display_name": "Haskell",
   "language": "haskell",
   "name": "haskell"
  },
  "language_info": {
   "codemirror_mode": "ihaskell",
   "file_extension": ".hs",
   "name": "haskell",
   "pygments_lexer": "Haskell",
   "version": "8.6.4"
  }
 },
 "nbformat": 4,
 "nbformat_minor": 2
}
