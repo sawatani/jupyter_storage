{
 "cells": [
  {
   "cell_type": "code",
   "execution_count": null,
   "metadata": {},
   "outputs": [],
   "source": [
    "import Control.Monad.ST\n",
    "import Data.Vector.Mutable as MV (swap)\n",
    "import qualified Data.Vector.Generic as MV (thaw, freeze, fromList, toList)\n",
    "import System.Random.MWC"
   ]
  },
  {
   "cell_type": "code",
   "execution_count": null,
   "metadata": {},
   "outputs": [],
   "source": [
    "bodyST g = uniformR (0, 10) g"
   ]
  },
  {
   "cell_type": "code",
   "execution_count": null,
   "metadata": {},
   "outputs": [],
   "source": [
    ":info bodyST"
   ]
  },
  {
   "cell_type": "code",
   "execution_count": null,
   "metadata": {},
   "outputs": [],
   "source": [
    "randomST :: IO Int\n",
    "randomST = withSystemRandom . asGenST $ bodyST"
   ]
  },
  {
   "cell_type": "code",
   "execution_count": null,
   "metadata": {},
   "outputs": [],
   "source": [
    "shuffleList :: (Show a, NFData a) => [a] -> [a]\n",
    "shuffleList (a:[]) = [a]\n",
    "shuffleList xs =  runST $ withSystemRandom . asGenST $ \\g -> do\n",
    "    v <- MV.thaw $ MV.fromList xs\n",
    "    v' <- modify v g n\n",
    "    r <- MV.toList <$> MV.freeze v'\n",
    "    return r\n",
    "        where\n",
    "            n = length xs\n",
    "            modify v g 0 = return v\n",
    "            modify v g i = do\n",
    "                let i' = i - 1\n",
    "                j <- uniformR (0,n) g\n",
    "                MV.swap v i' j\n",
    "                modify v g i'"
   ]
  }
 ],
 "metadata": {
  "kernelspec": {
   "display_name": "Haskell",
   "language": "haskell",
   "name": "haskell"
  },
  "language_info": {
   "codemirror_mode": "ihaskell",
   "file_extension": ".hs",
   "name": "haskell",
   "pygments_lexer": "Haskell",
   "version": "8.6.4"
  }
 },
 "nbformat": 4,
 "nbformat_minor": 2
}
