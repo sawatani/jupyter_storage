{
 "cells": [
  {
   "cell_type": "code",
   "execution_count": null,
   "metadata": {},
   "outputs": [],
   "source": [
    "{-# LANGUAGE FunctionalDependencies #-}\n",
    "{-# LANGUAGE MonomorphismRestriction #-}\n",
    "{-# LANGUAGE FlexibleContexts #-}\n",
    "\n",
    "import Control.Monad.State\n",
    "import Numeric.LinearAlgebra\n",
    "import Numeric.LinearAlgebra.Data\n",
    "import Numeric\n",
    "import Prelude hiding ((<>))"
   ]
  },
  {
   "cell_type": "markdown",
   "metadata": {},
   "source": [
    "\\begin{eqnarray}\n",
    "Sigmoid \\nonumber \\\\\n",
    "  h(x) &=& \\frac\n",
    "  {1}\n",
    "  {1 + \\exp(-x)} \\\\\n",
    "\\nonumber \\\\\n",
    "ReLU \\nonumber \\\\\n",
    "  h(x) &=& \\begin{cases}\n",
    "  x & (x > 0) \\\\\n",
    "  0 & (x \\le 0)\n",
    "  \\end{cases}\n",
    "\\end{eqnarray}"
   ]
  },
  {
   "cell_type": "code",
   "execution_count": null,
   "metadata": {},
   "outputs": [],
   "source": [
    "sigmoid :: (Floating a) => a -> a\n",
    "sigmoid a = fromIntegral 1 / (fromIntegral 1 + exp (-a))\n",
    "\n",
    "sigmoidm :: (Floating a, Container Matrix a) => Matrix a -> Matrix a\n",
    "sigmoidm = cmap sigmoid\n",
    "\n",
    "sigmoidBackward :: (Floating a, Num (Vector a), Container Matrix a) => Matrix a -> Matrix a -> Matrix a\n",
    "sigmoidBackward y d = d * (cmap (\\a -> fromIntegral 1 - a) y) * y\n",
    "\n",
    "relu :: (Ord a, Num a) => a -> a\n",
    "relu = max $ fromIntegral 0\n",
    "\n",
    "relum :: (Ord a, Num a, Container Matrix a) => Matrix a -> Matrix a\n",
    "relum = cmap relu\n",
    "\n",
    "relumBackward :: (Ord a, Num a, Num (Matrix a), Container Vector a, Container Matrix a) => Matrix a -> Matrix a -> Matrix a\n",
    "relumBackward x d = d * mask\n",
    "    where mask = cmap (\\a -> fromIntegral $ if (0 < a) then 1 else 0) x"
   ]
  },
  {
   "cell_type": "markdown",
   "metadata": {},
   "source": [
    "\\begin{eqnarray}\n",
    "Cross Entropy \\nonumber \\\\\n",
    "  L &=& -\\displaystyle \\sum_{i=1}^{n}t_i \\log (y_i + d) \\\\\n",
    "  t &:& 教師ラベル \\nonumber \\\\\n",
    "  d &:& 微小値 \\nonumber \\\\\n",
    " \\nonumber \\\\\n",
    "Softmax \\nonumber \\\\\n",
    "  y_k &=& \\frac\n",
    "  {\\exp(a_k - \\hat{a})}\n",
    "  {\\displaystyle \\sum_{i=1}^{n}\\exp(a_i - \\hat{a})} \\\\\n",
    "  \\hat{a} &=& \\max \\{ a_{1...n} \\} \\nonumber\n",
    "\\end{eqnarray}\n"
   ]
  },
  {
   "cell_type": "code",
   "execution_count": null,
   "metadata": {},
   "outputs": [],
   "source": [
    "softmax :: (Floating a, Container Vector a) => Vector a -> Vector a\n",
    "softmax v = cmap (/s) v'\n",
    "    where\n",
    "    m = maxElement v\n",
    "    v' = cmap (\\a -> exp (a - m)) v\n",
    "    s = sumElements v'\n",
    "\n",
    "softmaxm :: (Floating a, Container Vector a) => Matrix a -> Matrix a\n",
    "softmaxm m = fromRows $ map softmax $ toRows m\n",
    "\n",
    "crossEntropy :: (Floating a, Num (Vector a), Container Vector a) => Vector a -> Vector a -> a\n",
    "crossEntropy t y = -(sumElements $ cmap log (y + d) * t)\n",
    "    where d = 1e-10\n",
    "\n",
    "crossEntropym :: (Floating a, Num (Vector a), Container Vector a) => Matrix a -> Matrix a -> a\n",
    "crossEntropym t m = sum vs / batchSize\n",
    "    where \n",
    "    vs = uncurry crossEntropy `map` (toRows t `zip` toRows m)\n",
    "    batchSize = fromIntegral $ rows t\n",
    "\n",
    "softmaxWithCross :: (Floating a, Num (Vector a), Container Vector a) => Matrix a -> Matrix a -> a\n",
    "softmaxWithCross t = crossEntropym t . softmaxm\n",
    "\n",
    "softmaxWithCrossBackward :: (Floating a, Num (Vector a), Container Vector a) => Matrix a -> Matrix a -> Matrix a\n",
    "softmaxWithCrossBackward t y = (y - t) / batchSize\n",
    "    where batchSize = fromIntegral $ rows t"
   ]
  },
  {
   "cell_type": "code",
   "execution_count": null,
   "metadata": {},
   "outputs": [],
   "source": [
    "affinem :: (Floating a, Numeric a, Num (Vector a)) => Matrix a -> Vector a -> Matrix a -> Matrix a\n",
    "affinem w b x = x <> w + b'\n",
    "    where b' = fromColumns $ replicate (rows x) b\n",
    "\n",
    "affinemBackward :: (Floating a, Numeric a) => Matrix a -> Matrix a -> Matrix a -> (Matrix a, Matrix a, Vector a)\n",
    "affinemBackward w x d = (dx, dw, db)\n",
    "    where\n",
    "    dx = d <> tr w\n",
    "    dw = tr x <> d\n",
    "    db = fromList $ sumElements `map` toColumns d"
   ]
  },
  {
   "cell_type": "code",
   "execution_count": null,
   "metadata": {},
   "outputs": [],
   "source": [
    "class ForwardLayer a where\n",
    "    forward :: (Ord v, Floating v, Numeric v, Num (Vector v), BackwardLayer b) => a -> Matrix v -> (b, Matrix v)\n",
    "\n",
    "class BackwardLayer a where\n",
    "    backward :: (Ord v, Floating v, Numeric v, Num (Vector v), ForwardLayer b) => a -> Matrix v -> (b, Matrix v)\n",
    "\n",
    "class OutputLayer a where\n",
    "    output :: (Floating v, Numeric v, Num (Vector v), BackputLayer b) => a -> Matrix v -> Matrix v -> (b, v)\n",
    "\n",
    "class BackputLayer a where\n",
    "    backput :: (Floating v, Numeric v, Num (Vector v), OutputLayer b) => a -> (b, Matrix v)"
   ]
  },
  {
   "cell_type": "code",
   "execution_count": null,
   "metadata": {},
   "outputs": [],
   "source": [
    "data AffineForward a = AffineForward (Matrix a) (Vector a)\n",
    "data SigmoidForward\n",
    "data ReLUForward\n",
    "data SoftmaxWithCrossForward\n",
    "\n",
    "data AffineBackward a = AffineBackward (Matrix a) (Matrix a)\n",
    "data SigmoidBackward y\n",
    "data ReLUBackward x\n",
    "data SoftmaxWithCrossBackward t"
   ]
  },
  {
   "cell_type": "code",
   "execution_count": null,
   "metadata": {},
   "outputs": [],
   "source": [
    "instance ForwardLayer (AffineForward a) where\n",
    "    forward (AffineForward w b) x = (AffineBackward w x, r)\n",
    "        where r = affinem w b x"
   ]
  },
  {
   "cell_type": "code",
   "execution_count": null,
   "metadata": {},
   "outputs": [],
   "source": [
    "data LearningLayers a = OutputLayer a | ForwardingLayers a (LearningLayers a)"
   ]
  },
  {
   "cell_type": "code",
   "execution_count": null,
   "metadata": {},
   "outputs": [],
   "source": [
    "xs = ((2><2)[1..]) :: Matrix R\n",
    "ys = ((2><2)[1..]) :: Matrix R\n",
    ":type xs\n",
    ":type ys\n",
    "print xs\n",
    "print ys\n",
    "print $ xs / 2.0"
   ]
  }
 ],
 "metadata": {
  "hide_input": false,
  "kernelspec": {
   "display_name": "Haskell",
   "language": "haskell",
   "name": "haskell"
  },
  "language_info": {
   "codemirror_mode": "ihaskell",
   "file_extension": ".hs",
   "name": "haskell",
   "pygments_lexer": "Haskell",
   "version": "8.6.4"
  }
 },
 "nbformat": 4,
 "nbformat_minor": 2
}
