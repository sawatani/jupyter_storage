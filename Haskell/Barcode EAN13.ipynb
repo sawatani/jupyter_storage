{
 "cells": [
  {
   "cell_type": "code",
   "execution_count": null,
   "metadata": {},
   "outputs": [],
   "source": [
    "import Data.Array (Array())"
   ]
  },
  {
   "cell_type": "code",
   "execution_count": null,
   "metadata": {},
   "outputs": [],
   "source": [
    "checkDigit ds = 10 - (sum products `mod` 10)\n",
    "    where products = mapEveryOther (*3) (reverse ds)\n",
    "    \n",
    "mapEveryOther f = zipWith ($) (cycle [f, id])"
   ]
  },
  {
   "cell_type": "code",
   "execution_count": null,
   "metadata": {},
   "outputs": [],
   "source": [
    ":type mapEveryOther\n",
    ":type ($)\n",
    ":type cycle\n",
    ":type zipWith"
   ]
  }
 ],
 "metadata": {
  "hide_input": false,
  "kernelspec": {
   "display_name": "Haskell",
   "language": "haskell",
   "name": "haskell"
  },
  "language_info": {
   "codemirror_mode": "ihaskell",
   "file_extension": ".hs",
   "name": "haskell",
   "pygments_lexer": "Haskell",
   "version": "8.6.3"
  }
 },
 "nbformat": 4,
 "nbformat_minor": 2
}
