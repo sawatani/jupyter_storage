{
 "cells": [
  {
   "cell_type": "code",
   "execution_count": null,
   "metadata": {},
   "outputs": [],
   "source": [
    "import Data.Array (Array(..), (!), bounds, elems, indices, ixmap, listArray)\n",
    "import Control.Applicative ((<$>))\n",
    "import Control.Monad (forM_)\n",
    "import Data.Char (digitToInt)\n",
    "import Data.Ix (Ix(..))\n",
    "import Data.List (foldl', group, sort, sortBy, tails)\n",
    "import Data.Maybe (catMaybes, listToMaybe)\n",
    "import Data.Ratio (Ratio)\n",
    "import Data.Word (Word8)\n",
    "import System.Environment (getArgs)\n",
    "import qualified Data.ByteString.Lazy.Char8 as L\n",
    "import qualified Data.Map as M\n",
    "import ParsePGM"
   ]
  },
  {
   "cell_type": "code",
   "execution_count": null,
   "metadata": {},
   "outputs": [],
   "source": [
    "checkDigit ds = 10 - (sum products `mod` 10)\n",
    "    where products = mapEveryOther (*3) (reverse ds)\n",
    "    \n",
    "mapEveryOther f = zipWith ($) (cycle [f, id])"
   ]
  },
  {
   "cell_type": "code",
   "execution_count": null,
   "metadata": {},
   "outputs": [],
   "source": [
    ":type mapEveryOther\n",
    ":type ($)\n",
    ":type cycle\n",
    ":type zipWith"
   ]
  }
 ],
 "metadata": {
  "hide_input": false,
  "kernelspec": {
   "display_name": "Haskell",
   "language": "haskell",
   "name": "haskell"
  },
  "language_info": {
   "codemirror_mode": "ihaskell",
   "file_extension": ".hs",
   "name": "haskell",
   "pygments_lexer": "Haskell",
   "version": "8.6.3"
  }
 },
 "nbformat": 4,
 "nbformat_minor": 2
}
