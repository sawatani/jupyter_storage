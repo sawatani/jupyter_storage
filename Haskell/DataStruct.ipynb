{
 "cells": [
  {
   "cell_type": "code",
   "execution_count": null,
   "metadata": {},
   "outputs": [],
   "source": [
    "import Data.List"
   ]
  },
  {
   "cell_type": "code",
   "execution_count": null,
   "metadata": {},
   "outputs": [],
   "source": [
    "data Op = Plus | Minus | Mul | Div | Pow\n",
    "    deriving (Eq, Show)\n",
    "    \n",
    "data SymbolicManip a =\n",
    "    Number a\n",
    "  | Symbol String\n",
    "  | BinaryArith Op (SymbolicManip a) (SymbolicManip a)\n",
    "  | UnaryArith String (SymbolicManip a)\n",
    "    deriving (Eq, Show)"
   ]
  },
  {
   "cell_type": "code",
   "execution_count": null,
   "metadata": {},
   "outputs": [],
   "source": [
    "instance Num a => Num (SymbolicManip a) where\n",
    "    a + b = BinaryArith Plus a b\n",
    "    a - b = BinaryArith Minus a b\n",
    "    a * b = BinaryArith Mul a b\n",
    "    negate = BinaryArith Mul (Number (-1))\n",
    "    abs = UnaryArith \"abs\"\n",
    "    signum a = error \"signum is unimplemented\"\n",
    "    fromInteger i = Number (fromInteger i)"
   ]
  },
  {
   "cell_type": "code",
   "execution_count": null,
   "metadata": {},
   "outputs": [],
   "source": [
    "instance (Fractional a) => Fractional (SymbolicManip a) where\n",
    "    a / b = BinaryArith Div a b\n",
    "    recip = BinaryArith Div (Number 1)\n",
    "    fromRational r = Number (fromRational r)"
   ]
  },
  {
   "cell_type": "code",
   "execution_count": null,
   "metadata": {},
   "outputs": [],
   "source": [
    "instance (Floating a) => Floating (SymbolicManip a) where\n",
    "    pi = Symbol \"pi\"\n",
    "    exp = UnaryArith \"exp\"\n",
    "    log = UnaryArith \"log\"\n",
    "    sqrt =  UnaryArith \"sqrt\"\n",
    "    a ** b = BinaryArith Pow a b\n",
    "    sin = UnaryArith \"sin\"\n",
    "    cos = UnaryArith \"cos\"\n",
    "    tan = UnaryArith \"tan\"\n",
    "    asin = UnaryArith \"asin\"\n",
    "    acos = UnaryArith \"acos\"\n",
    "    atan = UnaryArith \"atan\"\n",
    "    sinh = UnaryArith \"sinh\"\n",
    "    cosh = UnaryArith \"cosh\"\n",
    "    tanh = UnaryArith \"tanh\"\n",
    "    asinh = UnaryArith \"asinh\"\n",
    "    acosh = UnaryArith \"acosh\"\n",
    "    atanh = UnaryArith \"atanh\""
   ]
  },
  {
   "cell_type": "code",
   "execution_count": null,
   "metadata": {},
   "outputs": [],
   "source": [
    "pretyShow :: (Show a, Num a)"
   ]
  },
  {
   "cell_type": "code",
   "execution_count": null,
   "metadata": {},
   "outputs": [],
   "source": [
    "five = Number 5\n",
    "ten = Number 10\n",
    "m = five * ten"
   ]
  },
  {
   "cell_type": "code",
   "execution_count": null,
   "metadata": {},
   "outputs": [],
   "source": [
    "print ((5 * 10) :: SymbolicManip Int)"
   ]
  }
 ],
 "metadata": {
  "hide_input": false,
  "kernelspec": {
   "display_name": "Haskell",
   "language": "haskell",
   "name": "haskell"
  },
  "language_info": {
   "codemirror_mode": "ihaskell",
   "file_extension": ".hs",
   "name": "haskell",
   "pygments_lexer": "Haskell",
   "version": "8.6.3"
  }
 },
 "nbformat": 4,
 "nbformat_minor": 2
}
