{
 "cells": [
  {
   "cell_type": "code",
   "execution_count": null,
   "metadata": {},
   "outputs": [],
   "source": [
    "data Op = Plus | Minus | Mul | Div | Pow\n",
    "    deriving (Eq, Show)\n",
    "    \n",
    "data SymbolicManip a =\n",
    "    Number a\n",
    "  | Symbol S\n",
    "  | BinaryArith Op (SymbolicManip a) (SymbolicManip a)\n",
    "  | UnaryArith String (SymbolicManip a)\n",
    "    deriving (Eq, Show)"
   ]
  },
  {
   "cell_type": "code",
   "execution_count": null,
   "metadata": {},
   "outputs": [],
   "source": [
    "instance Num a => Num (SymbolicManip a) where\n",
    "    a + b = Arith Plus a b\n",
    "    a - b = Arith Minus a b\n",
    "    a * b = Arith Mul a b\n",
    "    negate a = Arith Mul (Number (-1)) a\n",
    "    abs a = error \"abs is unimplemented\"\n",
    "    signum a = error \"signum is unimplemented\"\n",
    "    fromInteger i = Number (fromInteger i)"
   ]
  },
  {
   "cell_type": "code",
   "execution_count": null,
   "metadata": {},
   "outputs": [],
   "source": [
    "five = Number 5\n",
    "ten = Number 10\n",
    "m = five * ten"
   ]
  },
  {
   "cell_type": "code",
   "execution_count": null,
   "metadata": {},
   "outputs": [],
   "source": [
    "print ((5 * 10) :: SymbolicManip Int)"
   ]
  }
 ],
 "metadata": {
  "hide_input": false,
  "kernelspec": {
   "display_name": "Haskell",
   "language": "haskell",
   "name": "haskell"
  },
  "language_info": {
   "codemirror_mode": "ihaskell",
   "file_extension": ".hs",
   "name": "haskell",
   "pygments_lexer": "Haskell",
   "version": "8.6.3"
  }
 },
 "nbformat": 4,
 "nbformat_minor": 2
}
