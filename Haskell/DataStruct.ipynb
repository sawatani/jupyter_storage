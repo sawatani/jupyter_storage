{
 "cells": [
  {
   "cell_type": "code",
   "execution_count": null,
   "metadata": {},
   "outputs": [],
   "source": [
    "import Data.List"
   ]
  },
  {
   "cell_type": "code",
   "execution_count": null,
   "metadata": {},
   "outputs": [],
   "source": [
    "data Op = Plus | Minus | Mul | Div | Pow\n",
    "    deriving (Eq, Show)\n",
    "    \n",
    "data SymbolicManip a =\n",
    "    Number a\n",
    "  | Symbol String\n",
    "  | BinaryArith Op (SymbolicManip a) (SymbolicManip a)\n",
    "  | UnaryArith String (SymbolicManip a)\n",
    "    deriving (Eq, Show)"
   ]
  },
  {
   "cell_type": "code",
   "execution_count": null,
   "metadata": {},
   "outputs": [],
   "source": [
    "instance Num a => Num (SymbolicManip a) where\n",
    "    a + b = BinaryArith Plus a b\n",
    "    a - b = BinaryArith Minus a b\n",
    "    a * b = BinaryArith Mul a b\n",
    "    negate = BinaryArith Mul (Number (-1))\n",
    "    abs = UnaryArith \"abs\"\n",
    "    signum a = error \"signum is unimplemented\"\n",
    "    fromInteger i = Number (fromInteger i)"
   ]
  },
  {
   "cell_type": "code",
   "execution_count": null,
   "metadata": {},
   "outputs": [],
   "source": [
    "instance (Fractional a) => Fractional (SymbolicManip a) where\n",
    "    a / b = BinaryArith Div a b\n",
    "    recip a = BinaryArith Div (Number 1) a\n",
    "    fromRational r = Number (fromRational r)"
   ]
  },
  {
   "cell_type": "code",
   "execution_count": null,
   "metadata": {},
   "outputs": [],
   "source": [
    "instance (Floating a) => Floating (SymbolicManip a) where\n",
    "    pi = Symbol \"pi\"\n",
    "    exp a = UnaryArith \"exp\" a\n",
    "    log a = UnaryArith \"log\" a\n",
    "    sqrt a =  UnaryArith \"sqrt\" a\n",
    "    a ** b = BinaryArith Pow a b\n",
    "    sin a = UnaryArith \"sin\" a\n",
    "    cos a = UnaryArith \"cos\" a"
   ]
  },
  {
   "cell_type": "code",
   "execution_count": null,
   "metadata": {},
   "outputs": [],
   "source": [
    "five = Number 5\n",
    "ten = Number 10\n",
    "m = five * ten"
   ]
  },
  {
   "cell_type": "code",
   "execution_count": null,
   "metadata": {},
   "outputs": [],
   "source": [
    "print ((5 * 10) :: SymbolicManip Int)"
   ]
  }
 ],
 "metadata": {
  "hide_input": false,
  "kernelspec": {
   "display_name": "Haskell",
   "language": "haskell",
   "name": "haskell"
  },
  "language_info": {
   "codemirror_mode": "ihaskell",
   "file_extension": ".hs",
   "name": "haskell",
   "pygments_lexer": "Haskell",
   "version": "8.6.3"
  }
 },
 "nbformat": 4,
 "nbformat_minor": 2
}
