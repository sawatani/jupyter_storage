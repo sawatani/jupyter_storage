{
 "cells": [
  {
   "cell_type": "code",
   "execution_count": null,
   "metadata": {},
   "outputs": [],
   "source": [
    "import Data.List"
   ]
  },
  {
   "cell_type": "code",
   "execution_count": null,
   "metadata": {},
   "outputs": [],
   "source": [
    "data Op = Plus | Minus | Mul | Div | Pow\n",
    "    deriving (Eq, Show)\n",
    "    \n",
    "data SymbolicManip a =\n",
    "    Number a\n",
    "  | Symbol String\n",
    "  | BinaryArith Op (SymbolicManip a) (SymbolicManip a)\n",
    "  | UnaryArith String (SymbolicManip a)\n",
    "    deriving (Eq, Show)"
   ]
  },
  {
   "cell_type": "code",
   "execution_count": null,
   "metadata": {},
   "outputs": [],
   "source": [
    "data Units a = Units a (SymbolicManip a)\n",
    "    deriving (Eq)"
   ]
  },
  {
   "cell_type": "code",
   "execution_count": null,
   "metadata": {},
   "outputs": [],
   "source": [
    "instance Num a => Num (SymbolicManip a) where\n",
    "    a + b = BinaryArith Plus a b\n",
    "    a - b = BinaryArith Minus a b\n",
    "    a * b = BinaryArith Mul a b\n",
    "    negate = BinaryArith Mul (Number (-1))\n",
    "    abs = UnaryArith \"abs\"\n",
    "    signum a = error \"signum is unimplemented\"\n",
    "    fromInteger i = Number (fromInteger i)"
   ]
  },
  {
   "cell_type": "code",
   "execution_count": null,
   "metadata": {},
   "outputs": [],
   "source": [
    "instance (Num a) => Num (Units a) where\n",
    "    (Units xa ua) + (Units xb ub)\n",
    "        | ua == ub "
   ]
  },
  {
   "cell_type": "code",
   "execution_count": null,
   "metadata": {},
   "outputs": [],
   "source": [
    "instance (Fractional a) => Fractional (SymbolicManip a) where\n",
    "    a / b = BinaryArith Div a b\n",
    "    recip = BinaryArith Div (Number 1)\n",
    "    fromRational r = Number (fromRational r)"
   ]
  },
  {
   "cell_type": "code",
   "execution_count": null,
   "metadata": {},
   "outputs": [],
   "source": [
    "instance (Floating a) => Floating (SymbolicManip a) where\n",
    "    pi = Symbol \"pi\"\n",
    "    exp = UnaryArith \"exp\"\n",
    "    log = UnaryArith \"log\"\n",
    "    sqrt =  UnaryArith \"sqrt\"\n",
    "    a ** b = BinaryArith Pow a b\n",
    "    sin = UnaryArith \"sin\"\n",
    "    cos = UnaryArith \"cos\"\n",
    "    tan = UnaryArith \"tan\"\n",
    "    asin = UnaryArith \"asin\"\n",
    "    acos = UnaryArith \"acos\"\n",
    "    atan = UnaryArith \"atan\"\n",
    "    sinh = UnaryArith \"sinh\"\n",
    "    cosh = UnaryArith \"cosh\"\n",
    "    tanh = UnaryArith \"tanh\"\n",
    "    asinh = UnaryArith \"asinh\"\n",
    "    acosh = UnaryArith \"acosh\"\n",
    "    atanh = UnaryArith \"atanh\""
   ]
  },
  {
   "cell_type": "code",
   "execution_count": null,
   "metadata": {},
   "outputs": [],
   "source": [
    "instance Show Op where\n",
    "    show Plus = \"+\"\n",
    "    show Minus = \"-\"\n",
    "    show Mul = \"*\"\n",
    "    show Div = \"/\"\n",
    "    show Pow = \"**\""
   ]
  },
  {
   "cell_type": "code",
   "execution_count": null,
   "metadata": {},
   "outputs": [],
   "source": [
    "instance (Show a, Num a) =>  Show (SymbolicManip a) where\n",
    "    show = prettyShow"
   ]
  },
  {
   "cell_type": "code",
   "execution_count": null,
   "metadata": {},
   "outputs": [],
   "source": [
    "prettyShow :: (Show a, Num a) => SymbolicManip a -> String\n",
    "\n",
    "prettyShow (Number x) = show x\n",
    "prettyShow (Symbol x) = x\n",
    "\n",
    "prettyShow (BinaryArith op a b) = pa ++ show op ++ pb\n",
    "    where\n",
    "        pa = simpleParen a\n",
    "        pb = simpleParen b\n",
    "        \n",
    "prettyShow (UnaryArith opstr a) =\n",
    "    opstr ++ \"(\" ++ show a ++ \")\"\n",
    "    \n",
    "simpleParen :: (Show a, Num a) => SymbolicManip a -> String\n",
    "\n",
    "simpleParen (Number x) = prettyShow (Number x)\n",
    "simpleParen (Symbol x) = prettyShow (Symbol x)\n",
    "simpleParen x@(BinaryArith _ _ _) = \"(\" ++ prettyShow x ++ \")\"\n",
    "simpleParen x@(UnaryArith _ _) = prettyShow x"
   ]
  },
  {
   "cell_type": "code",
   "execution_count": null,
   "metadata": {},
   "outputs": [],
   "source": [
    "rpnShow :: (Show a, Num a) => SymbolicManip a -> String\n",
    "\n",
    "rpnShow i = join \" \" (toList i)\n",
    "    where\n",
    "        toList (Number x) = [show x]\n",
    "        toList (Symbol x) = [x]\n",
    "        toList (BinaryArith op a b) = toList a ++ toList b ++ [show op]\n",
    "        toList (UnaryArith op a) = toList a ++ [op]\n",
    "        join :: [a] -> [[a]] -> [a]\n",
    "        join delim l = concat (intersperse delim l)"
   ]
  },
  {
   "cell_type": "code",
   "execution_count": null,
   "metadata": {},
   "outputs": [],
   "source": [
    "simplify :: (Num a, Eq a) => SymbolicManip a -> SymbolicManip a\n",
    "\n",
    "simplify (BinaryArith op ia ib) = \n",
    "    case (op, sa, sb) of\n",
    "        (Mul, Number 1, b) -> b\n",
    "        (Mul, a, Number 1) -> a\n",
    "        (Mul, Number 0, _) -> Number 0\n",
    "        (Mul, _, Number 0) -> Number 0\n",
    "        (Div, a, Number 1) -> a\n",
    "        (Plus, a, Number 0) -> a\n",
    "        (Plus, Number 0, b) -> b\n",
    "        (Minus, a, Number 0) -> a\n",
    "        _ -> BinaryArith op sa sb\n",
    "    where\n",
    "        sa = simplify ia\n",
    "        sb = simplify ib\n",
    "simplify (UnaryArith op a) = UnaryArith op (simplify a)\n",
    "simplify x = x"
   ]
  },
  {
   "cell_type": "code",
   "execution_count": null,
   "metadata": {},
   "outputs": [],
   "source": [
    "zero = Number 0\n",
    "one = Number 1\n",
    "five = Number 5\n",
    "seven = Number 7\n",
    "ten = Number 10\n",
    "m = (five * (ten * one) + (five * zero) + zero) / seven / one\n",
    "print m\n",
    "print $ simplify m"
   ]
  }
 ],
 "metadata": {
  "hide_input": false,
  "kernelspec": {
   "display_name": "Haskell",
   "language": "haskell",
   "name": "haskell"
  },
  "language_info": {
   "codemirror_mode": "ihaskell",
   "file_extension": ".hs",
   "name": "haskell",
   "pygments_lexer": "Haskell",
   "version": "8.6.3"
  }
 },
 "nbformat": 4,
 "nbformat_minor": 2
}
