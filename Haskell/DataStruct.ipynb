{
 "cells": [
  {
   "cell_type": "code",
   "execution_count": null,
   "metadata": {},
   "outputs": [],
   "source": [
    "import Data.List"
   ]
  },
  {
   "cell_type": "code",
   "execution_count": null,
   "metadata": {},
   "outputs": [],
   "source": [
    "data Op = Plus | Minus | Mul | Div | Pow\n",
    "    deriving (Eq, Show)\n",
    "    \n",
    "data SymbolicManip a =\n",
    "    Number a\n",
    "  | Symbol String\n",
    "  | BinaryArith Op (SymbolicManip a) (SymbolicManip a)\n",
    "  | UnaryArith String (SymbolicManip a)\n",
    "    deriving (Eq, Show)"
   ]
  },
  {
   "cell_type": "code",
   "execution_count": null,
   "metadata": {},
   "outputs": [],
   "source": [
    "data Units a = Units a (SymbolicManip a)\n",
    "    deriving (Eq)"
   ]
  },
  {
   "cell_type": "code",
   "execution_count": null,
   "metadata": {},
   "outputs": [],
   "source": [
    "instance Num a => Num (SymbolicManip a) where\n",
    "    a + b = BinaryArith Plus a b\n",
    "    a - b = BinaryArith Minus a b\n",
    "    a * b = BinaryArith Mul a b\n",
    "    negate = BinaryArith Mul (Number (-1))\n",
    "    abs = UnaryArith \"abs\"\n",
    "    signum a = error \"signum is unimplemented\"\n",
    "    fromInteger i = Number (fromInteger i)"
   ]
  },
  {
   "cell_type": "code",
   "execution_count": null,
   "metadata": {},
   "outputs": [],
   "source": [
    "instance (Num a, Eq a) => Num (Units a) where\n",
    "    (Units xa ua) + (Units xb ub)\n",
    "        | ua == ub = Units (xa + xb) ua\n",
    "        | otherwise = error \"Mis-matched units in add or subtract\"\n",
    "    a@(Units xa ua) - (Units xb ub) = a + Units (xb * (-1)) ub\n",
    "    (Units xa ua) * (Units xb ub) = Units (xa * xb) (ua * ub)\n",
    "    negate (Units xa ua) = Units (negate xa) ua\n",
    "    abs (Units xa ua) = Units (abs xa) ua\n",
    "    signum (Units xa _) = Units (signum xa) (Number 1)\n",
    "    fromInteger i = Units (fromInteger i) (Number 1)"
   ]
  },
  {
   "cell_type": "code",
   "execution_count": null,
   "metadata": {},
   "outputs": [],
   "source": [
    "instance (Fractional a) => Fractional (SymbolicManip a) where\n",
    "    a / b = BinaryArith Div a b\n",
    "    recip = BinaryArith Div (Number 1)\n",
    "    fromRational r = Number (fromRational r)"
   ]
  },
  {
   "cell_type": "code",
   "execution_count": null,
   "metadata": {},
   "outputs": [],
   "source": [
    "instance (Fractional a, Eq a) => Fractional (Units a) where\n",
    "    (Units xa ua) / (Units xb ub) = Units (xa / xb) (ua / ub)\n",
    "    recip a = 1 / a\n",
    "    fromRational r = Units (fromRational r) (Number 1)"
   ]
  },
  {
   "cell_type": "code",
   "execution_count": null,
   "metadata": {},
   "outputs": [],
   "source": [
    "instance (Floating a) => Floating (SymbolicManip a) where\n",
    "    pi = Symbol \"pi\"\n",
    "    exp = UnaryArith \"exp\"\n",
    "    log = UnaryArith \"log\"\n",
    "    sqrt =  UnaryArith \"sqrt\"\n",
    "    a ** b = BinaryArith Pow a b\n",
    "    sin = UnaryArith \"sin\"\n",
    "    cos = UnaryArith \"cos\"\n",
    "    tan = UnaryArith \"tan\"\n",
    "    asin = UnaryArith \"asin\"\n",
    "    acos = UnaryArith \"acos\"\n",
    "    atan = UnaryArith \"atan\"\n",
    "    sinh = UnaryArith \"sinh\"\n",
    "    cosh = UnaryArith \"cosh\"\n",
    "    tanh = UnaryArith \"tanh\"\n",
    "    asinh = UnaryArith \"asinh\"\n",
    "    acosh = UnaryArith \"acosh\"\n",
    "    atanh = UnaryArith \"atanh\""
   ]
  },
  {
   "cell_type": "code",
   "execution_count": null,
   "metadata": {},
   "outputs": [],
   "source": [
    "instance (Floating a) => Floating (Units a) where\n",
    "    pi = Units pi (Number 1)\n",
    "    exp = error \"exp not yet implemented in Units\"\n",
    "    log = error \"log not yet implemented in Units\"\n",
    "    sqrt (Units xa ua) =  Units (sqrt xa) (sqrt ua)\n",
    "    (Units xa ua) ** (Units xb ub)\n",
    "        | ub == Number 1 = Units (xa ** xb) (ua ** Number xb)\n",
    "        | otherwise = error \"Units for RHS of ** not supported\"\n",
    "    sin (Units xa ua)\n",
    "        | ua == Symbol \"rad\" = Units (sin xa) (Number 1)\n",
    "        | ua == Symbol \"deg\" = Units (sin (deg2rad xa)) (Number 1)\n",
    "        | otherwise error \"Units for sin must be deg or rad\"\n",
    "    cos (Units xa ua)\n",
    "        | ua == Symbol \"rad\" = Units (cos xa) (Number 1)\n",
    "        | ua == Symbol \"deg\" = Units (cos (deg2rad xa)) (Number 1)\n",
    "        | otherwise error \"Units for cos must be deg or rad\"\n",
    "    tan  (Units xa ua)\n",
    "        | ua == Symbol \"rad\" = Units (tan xa) (Number 1)\n",
    "        | ua == Symbol \"deg\" = Units (tan (deg2rad xa)) (Number 1)\n",
    "        | otherwise error \"Units for tan must be deg or rad\"\n",
    "    asin (Units xa ua)\n",
    "        | ua == Number 1 = Units (rad2deg $ asin xa) (Symbol \"deg\")\n",
    "        | otherwise = error \"Units for asin must be empty\"\n",
    "    acos (Units xa ua)\n",
    "        | ua == Number 1 = Units (rad2deg $ acos xa) (Symbol \"deg\")\n",
    "        | otherwise = error \"Units for acos must be empty\"\n",
    "    atan (Units xa ua)\n",
    "        | ua == Number 1 = Units (rad2deg $ atan xa) (Symbol \"deg\")\n",
    "        | otherwise = error \"Units for atan must be empty\"\n",
    "    sinh = error \"sinh not yet implemented in Units\"\n",
    "    cosh = error \"cosh not yet implemented in Units\"\n",
    "    tanh = error \"tanh not yet implemented in Units\"\n",
    "    asinh = error \"asinh not yet implemented in Units\"\n",
    "    acosh = error \"acosh not yet implemented in Units\"\n",
    "    atanh = error \"atanh not yet implemented in Units\""
   ]
  },
  {
   "cell_type": "code",
   "execution_count": null,
   "metadata": {},
   "outputs": [],
   "source": [
    "instance Show Op where\n",
    "    show Plus = \"+\"\n",
    "    show Minus = \"-\"\n",
    "    show Mul = \"*\"\n",
    "    show Div = \"/\"\n",
    "    show Pow = \"**\""
   ]
  },
  {
   "cell_type": "code",
   "execution_count": null,
   "metadata": {},
   "outputs": [],
   "source": [
    "instance (Show a, Num a) =>  Show (SymbolicManip a) where\n",
    "    show = prettyShow"
   ]
  },
  {
   "cell_type": "code",
   "execution_count": null,
   "metadata": {},
   "outputs": [],
   "source": [
    "prettyShow :: (Show a, Num a) => SymbolicManip a -> String\n",
    "\n",
    "prettyShow (Number x) = show x\n",
    "prettyShow (Symbol x) = x\n",
    "\n",
    "prettyShow (BinaryArith op a b) = pa ++ show op ++ pb\n",
    "    where\n",
    "        pa = simpleParen a\n",
    "        pb = simpleParen b\n",
    "        \n",
    "prettyShow (UnaryArith opstr a) =\n",
    "    opstr ++ \"(\" ++ show a ++ \")\"\n",
    "    \n",
    "simpleParen :: (Show a, Num a) => SymbolicManip a -> String\n",
    "\n",
    "simpleParen (Number x) = prettyShow (Number x)\n",
    "simpleParen (Symbol x) = prettyShow (Symbol x)\n",
    "simpleParen x@(BinaryArith _ _ _) = \"(\" ++ prettyShow x ++ \")\"\n",
    "simpleParen x@(UnaryArith _ _) = prettyShow x"
   ]
  },
  {
   "cell_type": "code",
   "execution_count": null,
   "metadata": {},
   "outputs": [],
   "source": [
    "rpnShow :: (Show a, Num a) => SymbolicManip a -> String\n",
    "\n",
    "rpnShow i = join \" \" (toList i)\n",
    "    where\n",
    "        toList (Number x) = [show x]\n",
    "        toList (Symbol x) = [x]\n",
    "        toList (BinaryArith op a b) = toList a ++ toList b ++ [show op]\n",
    "        toList (UnaryArith op a) = toList a ++ [op]\n",
    "        join :: [a] -> [[a]] -> [a]\n",
    "        join delim l = concat (intersperse delim l)"
   ]
  },
  {
   "cell_type": "code",
   "execution_count": null,
   "metadata": {},
   "outputs": [],
   "source": [
    "simplify :: (Num a, Eq a) => SymbolicManip a -> SymbolicManip a\n",
    "\n",
    "simplify (BinaryArith op ia ib) = \n",
    "    case (op, sa, sb) of\n",
    "        (Mul, Number 1, b) -> b\n",
    "        (Mul, a, Number 1) -> a\n",
    "        (Mul, Number 0, _) -> Number 0\n",
    "        (Mul, _, Number 0) -> Number 0\n",
    "        (Div, a, Number 1) -> a\n",
    "        (Plus, a, Number 0) -> a\n",
    "        (Plus, Number 0, b) -> b\n",
    "        (Minus, a, Number 0) -> a\n",
    "        _ -> BinaryArith op sa sb\n",
    "    where\n",
    "        sa = simplify ia\n",
    "        sb = simplify ib\n",
    "simplify (UnaryArith op a) = UnaryArith op (simplify a)\n",
    "simplify x = x"
   ]
  },
  {
   "cell_type": "code",
   "execution_count": null,
   "metadata": {},
   "outputs": [],
   "source": [
    "zero = Number 0\n",
    "one = Number 1\n",
    "five = Number 5\n",
    "seven = Number 7\n",
    "ten = Number 10\n",
    "m = (five * (ten * one) + (five * zero) + zero) / seven / one\n",
    "print m\n",
    "print $ simplify m"
   ]
  }
 ],
 "metadata": {
  "hide_input": false,
  "kernelspec": {
   "display_name": "Haskell",
   "language": "haskell",
   "name": "haskell"
  },
  "language_info": {
   "codemirror_mode": "ihaskell",
   "file_extension": ".hs",
   "name": "haskell",
   "pygments_lexer": "Haskell",
   "version": "8.6.3"
  }
 },
 "nbformat": 4,
 "nbformat_minor": 2
}
